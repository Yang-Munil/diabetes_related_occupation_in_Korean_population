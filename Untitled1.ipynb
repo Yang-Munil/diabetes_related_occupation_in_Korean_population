{
 "cells": [
  {
   "cell_type": "code",
   "execution_count": 3,
   "metadata": {},
   "outputs": [],
   "source": [
    "import plotly.graph_objects as go\n",
    "import dash"
   ]
  },
  {
   "cell_type": "code",
   "execution_count": 4,
   "metadata": {},
   "outputs": [],
   "source": [
    "import dash_html_components as html"
   ]
  },
  {
   "cell_type": "code",
   "execution_count": 5,
   "metadata": {},
   "outputs": [],
   "source": [
    "app = dash.Dash()"
   ]
  },
  {
   "cell_type": "code",
   "execution_count": 6,
   "metadata": {},
   "outputs": [],
   "source": [
    "app.layout = html.Div([html.Div(\"Hellow all\", style = {\n",
    "    \"color\":\"red\",\n",
    "    \"text-align\":\"center\", \"background-color\": \"lightblue\",\n",
    "    \"border-style\":\"dotted\"\n",
    "})])"
   ]
  },
  {
   "cell_type": "code",
   "execution_count": 7,
   "metadata": {
    "scrolled": true
   },
   "outputs": [
    {
     "name": "stdout",
     "output_type": "stream",
     "text": [
      "Dash is running on http://127.0.0.1:8050/\n",
      "\n",
      " * Serving Flask app \"__main__\" (lazy loading)\n",
      " * Environment: production\n",
      "   WARNING: This is a development server. Do not use it in a production deployment.\n",
      "   Use a production WSGI server instead.\n",
      " * Debug mode: off\n"
     ]
    },
    {
     "name": "stderr",
     "output_type": "stream",
     "text": [
      " * Running on http://127.0.0.1:8050/ (Press CTRL+C to quit)\n",
      "127.0.0.1 - - [17/Jun/2021 22:59:40] \"GET / HTTP/1.1\" 200 -\n",
      "127.0.0.1 - - [17/Jun/2021 22:59:40] \"GET /_dash-component-suites/dash_renderer/react@16.v1_9_1m1623938148.14.0.min.js HTTP/1.1\" 200 -\n",
      "127.0.0.1 - - [17/Jun/2021 22:59:40] \"GET /_dash-component-suites/dash_renderer/prop-types@15.v1_9_1m1623938148.7.2.min.js HTTP/1.1\" 200 -\n",
      "127.0.0.1 - - [17/Jun/2021 22:59:40] \"GET /_dash-component-suites/dash_renderer/polyfill@7.v1_9_1m1623938148.8.7.min.js HTTP/1.1\" 200 -\n",
      "127.0.0.1 - - [17/Jun/2021 22:59:40] \"GET /_dash-component-suites/dash_html_components/dash_html_components.v1_1_3m1623938155.min.js HTTP/1.1\" 200 -\n",
      "127.0.0.1 - - [17/Jun/2021 22:59:40] \"GET /_dash-component-suites/dash_renderer/react-dom@16.v1_9_1m1623938148.14.0.min.js HTTP/1.1\" 200 -\n",
      "127.0.0.1 - - [17/Jun/2021 22:59:40] \"GET /_dash-component-suites/dash_renderer/dash_renderer.v1_9_1m1623938148.min.js HTTP/1.1\" 200 -\n",
      "127.0.0.1 - - [17/Jun/2021 22:59:40] \"GET /_dash-layout HTTP/1.1\" 200 -\n",
      "127.0.0.1 - - [17/Jun/2021 22:59:40] \"GET /_dash-dependencies HTTP/1.1\" 200 -\n",
      "127.0.0.1 - - [17/Jun/2021 22:59:40] \"GET /_favicon.ico?v=1.20.0 HTTP/1.1\" 200 -\n",
      "127.0.0.1 - - [17/Jun/2021 23:08:12] \"GET / HTTP/1.1\" 200 -\n",
      "127.0.0.1 - - [17/Jun/2021 23:08:12] \"GET /_dash-component-suites/dash_renderer/react@16.v1_9_1m1623938148.14.0.min.js HTTP/1.1\" 200 -\n",
      "127.0.0.1 - - [17/Jun/2021 23:08:12] \"GET /_dash-component-suites/dash_renderer/polyfill@7.v1_9_1m1623938148.8.7.min.js HTTP/1.1\" 200 -\n",
      "127.0.0.1 - - [17/Jun/2021 23:08:12] \"GET /_dash-component-suites/dash_renderer/prop-types@15.v1_9_1m1623938148.7.2.min.js HTTP/1.1\" 200 -\n",
      "127.0.0.1 - - [17/Jun/2021 23:08:12] \"GET /_dash-component-suites/dash_renderer/react-dom@16.v1_9_1m1623938148.14.0.min.js HTTP/1.1\" 200 -\n",
      "127.0.0.1 - - [17/Jun/2021 23:08:12] \"GET /_dash-component-suites/dash_html_components/dash_html_components.v1_1_3m1623938155.min.js HTTP/1.1\" 200 -\n",
      "127.0.0.1 - - [17/Jun/2021 23:08:12] \"GET /_dash-component-suites/dash_renderer/dash_renderer.v1_9_1m1623938148.min.js HTTP/1.1\" 200 -\n",
      "127.0.0.1 - - [17/Jun/2021 23:08:12] \"GET /_dash-layout HTTP/1.1\" 200 -\n",
      "127.0.0.1 - - [17/Jun/2021 23:08:12] \"GET /_dash-dependencies HTTP/1.1\" 200 -\n"
     ]
    }
   ],
   "source": [
    "if __name__=='__main__':\n",
    "    app.run_server()"
   ]
  },
  {
   "cell_type": "code",
   "execution_count": 8,
   "metadata": {},
   "outputs": [],
   "source": [
    "import xlsxwriter"
   ]
  },
  {
   "cell_type": "code",
   "execution_count": 9,
   "metadata": {},
   "outputs": [],
   "source": [
    "from openpyxl.styles import Font"
   ]
  },
  {
   "cell_type": "code",
   "execution_count": null,
   "metadata": {},
   "outputs": [],
   "source": []
  },
  {
   "cell_type": "code",
   "execution_count": null,
   "metadata": {},
   "outputs": [],
   "source": []
  }
 ],
 "metadata": {
  "kernelspec": {
   "display_name": "Python 3",
   "language": "python",
   "name": "python3"
  },
  "language_info": {
   "codemirror_mode": {
    "name": "ipython",
    "version": 3
   },
   "file_extension": ".py",
   "mimetype": "text/x-python",
   "name": "python",
   "nbconvert_exporter": "python",
   "pygments_lexer": "ipython3",
   "version": "3.7.4"
  }
 },
 "nbformat": 4,
 "nbformat_minor": 2
}
